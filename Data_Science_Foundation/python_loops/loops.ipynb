{
 "cells": [
  {
   "cell_type": "markdown",
   "id": "20fa403b",
   "metadata": {},
   "source": [
    "# Loops in python :"
   ]
  },
  {
   "cell_type": "markdown",
   "id": "5aaeb768",
   "metadata": {},
   "source": [
    "Loops help us repeat a block of code multiple times without writing it again and again.\n",
    "### In python there are 2 types of loops \n",
    "    1. while loop\n",
    "    2. for loop"
   ]
  },
  {
   "cell_type": "markdown",
   "id": "06d8b11d",
   "metadata": {},
   "source": [
    "## 1. While loop :"
   ]
  },
  {
   "cell_type": "markdown",
   "id": "f11220f4",
   "metadata": {},
   "source": [
    "We Use while loop when we don’t know the exact number of repetitions but want to repeat until a condition is true.\n",
    "\n",
    "If the condition never becomes False, you’ll create an infinite loop.\n",
    "\n",
    "Example:"
   ]
  },
  {
   "cell_type": "code",
   "execution_count": null,
   "id": "99e2d2b5",
   "metadata": {},
   "outputs": [
    {
     "name": "stdout",
     "output_type": "stream",
     "text": [
      "1 2 3 4 5 6 7 8 9 10 11 12 13 14 15 16 17 18 19 20 21 22 23 24 25 26 27 28 29 30 31 32 33 34 35 36 37 38 39 40 41 42 43 44 45 46 47 48 49 50 51 52 53 54 55 56 57 58 59 60 61 62 63 64 65 66 67 68 69 70 71 72 73 74 75 76 77 78 79 80 81 82 83 84 85 86 87 88 89 90 91 92 93 94 95 96 97 98 99 100 101 "
     ]
    }
   ],
   "source": [
    "# Print Number from 1 to 100\n",
    "\n",
    "count = 1\n",
    "while count <= 101 :\n",
    "    print(count, end =\" \") \n",
    "    count += 1"
   ]
  },
  {
   "cell_type": "markdown",
   "id": "102b17a5",
   "metadata": {},
   "source": [
    "## 2. For lopp :"
   ]
  },
  {
   "cell_type": "markdown",
   "id": "dbff2205",
   "metadata": {},
   "source": [
    "We use for loop when we know how many times we want to repeat something.\n",
    "\n",
    "Example :"
   ]
  },
  {
   "cell_type": "code",
   "execution_count": 3,
   "id": "18c93f20",
   "metadata": {},
   "outputs": [
    {
     "name": "stdout",
     "output_type": "stream",
     "text": [
      "99 78 85 90 93 199 120 "
     ]
    }
   ],
   "source": [
    "# print elements of a given list\n",
    "\n",
    "num_list = [99, 78, 85, 90, 93, 199, 120]\n",
    "\n",
    "for num in num_list:\n",
    "    print(num, end=\" \")"
   ]
  },
  {
   "cell_type": "markdown",
   "id": "e93b18ea",
   "metadata": {},
   "source": [
    "### range() in for loop :"
   ]
  },
  {
   "cell_type": "markdown",
   "id": "d05e6cb6",
   "metadata": {},
   "source": [
    "Range function return a sequence of numbers, starting form 0 (by default), and increment by 1 (by defalut), and stop before a specified number.\n",
    "\n",
    "range(start?, stop, step?)"
   ]
  },
  {
   "cell_type": "code",
   "execution_count": 9,
   "id": "14fb095b",
   "metadata": {},
   "outputs": [
    {
     "name": "stdout",
     "output_type": "stream",
     "text": [
      "1 3 5 7 9 "
     ]
    }
   ],
   "source": [
    "for i in range(1, 10, 2):\n",
    "\n",
    "    print(i, end=\" \")"
   ]
  }
 ],
 "metadata": {
  "kernelspec": {
   "display_name": "Python 3",
   "language": "python",
   "name": "python3"
  },
  "language_info": {
   "codemirror_mode": {
    "name": "ipython",
    "version": 3
   },
   "file_extension": ".py",
   "mimetype": "text/x-python",
   "name": "python",
   "nbconvert_exporter": "python",
   "pygments_lexer": "ipython3",
   "version": "3.13.1"
  }
 },
 "nbformat": 4,
 "nbformat_minor": 5
}
