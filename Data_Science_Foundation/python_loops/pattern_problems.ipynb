{
 "cells": [
  {
   "cell_type": "markdown",
   "id": "acc8f13a",
   "metadata": {},
   "source": [
    "### Q1. Print a simple triangle pattern:\n",
    "\n"
   ]
  },
  {
   "cell_type": "markdown",
   "id": "dd42351b",
   "metadata": {},
   "source": [
    "``` \n",
    "*\n",
    "**\n",
    "***\n",
    "****\n",
    "*****\n",
    "```"
   ]
  },
  {
   "cell_type": "code",
   "execution_count": 6,
   "id": "d24d4e56",
   "metadata": {},
   "outputs": [
    {
     "name": "stdout",
     "output_type": "stream",
     "text": [
      "*\n",
      "**\n",
      "***\n",
      "****\n",
      "*****\n"
     ]
    }
   ],
   "source": [
    "row = int(input(\"Enter the number of row you want to print star : \"))\n",
    "\n",
    "for i in range (1, row + 1):\n",
    "    for j in range(i):\n",
    "        print(\"*\", end=\"\")\n",
    "    print()"
   ]
  },
  {
   "cell_type": "markdown",
   "id": "4813185c",
   "metadata": {},
   "source": [
    "### Q2. Print the following inverted pyramid pattern:\n",
    "\n",
    "```\n",
    "*****\n",
    "****\n",
    "***\n",
    "**\n",
    "*\n",
    "```"
   ]
  },
  {
   "cell_type": "code",
   "execution_count": 18,
   "id": "015a14f3",
   "metadata": {},
   "outputs": [
    {
     "name": "stdout",
     "output_type": "stream",
     "text": [
      "*****\n",
      "****\n",
      "***\n",
      "**\n",
      "*\n"
     ]
    }
   ],
   "source": [
    "row = int(input(\"Enter the number of row you want to print star : \"))\n",
    "for i in range(row, 0, -1):\n",
    "    for j in range(i):\n",
    "        print(\"*\", end=\"\")\n",
    "\n",
    "    print()"
   ]
  },
  {
   "cell_type": "markdown",
   "id": "810efa6b",
   "metadata": {},
   "source": [
    "### Q1. Print a left align simple triangle pattern:\n",
    "\n",
    "```\n",
    "    *\n",
    "   **\n",
    "  ***\n",
    " ****\n",
    "*****\n",
    "```"
   ]
  },
  {
   "cell_type": "code",
   "execution_count": 21,
   "id": "46eb1a14",
   "metadata": {},
   "outputs": [
    {
     "name": "stdout",
     "output_type": "stream",
     "text": [
      "     *\n",
      "    **\n",
      "   ***\n",
      "  ****\n",
      " *****\n"
     ]
    }
   ],
   "source": [
    "row = int(input(\"Enter the number of row you want to print star : \"))\n",
    "\n",
    "for i in range(1, row + 1):\n",
    "    for j in range(row, i - 1, -1):\n",
    "        print(\" \", end=\"\")\n",
    "    for k in range(i):\n",
    "        print(\"*\", end=\"\")\n",
    "    print()"
   ]
  },
  {
   "cell_type": "markdown",
   "id": "cf7ba570",
   "metadata": {},
   "source": [
    "### Q4. Print a pyramid pattern of stars using python loop\n",
    "\n",
    "```\n",
    "    *\n",
    "   ***\n",
    "  *****\n",
    " *******\n",
    "*********\n",
    "```"
   ]
  },
  {
   "cell_type": "code",
   "execution_count": 27,
   "id": "0f123704",
   "metadata": {},
   "outputs": [
    {
     "name": "stdout",
     "output_type": "stream",
     "text": [
      "     *\n",
      "    ***\n",
      "   *****\n",
      "  *******\n",
      " *********\n"
     ]
    }
   ],
   "source": [
    "rows = int(input(\"Enter the number of row you want to print star : \")) \n",
    "\n",
    "for i in range (1, rows + 1):\n",
    "    for j in range (rows, i - 1, -1):\n",
    "        print(\" \", end=\"\")\n",
    "    for k in range(2 * i - 1):\n",
    "        print(\"*\", end=\"\")\n",
    "    print()"
   ]
  },
  {
   "cell_type": "markdown",
   "id": "5b250918",
   "metadata": {},
   "source": [
    "### Q5. Print diamond star pattern:\n",
    "\n",
    "``` \n",
    "   *\n",
    "  ***\n",
    " *****\n",
    "*******\n",
    " *****\n",
    "  ***\n",
    "   *\n",
    "```"
   ]
  },
  {
   "cell_type": "code",
   "execution_count": 30,
   "id": "5ae0f4ac",
   "metadata": {},
   "outputs": [
    {
     "name": "stdout",
     "output_type": "stream",
     "text": [
      "   *\n",
      "  ***\n",
      " *****\n",
      "*******\n",
      " *****\n",
      "  ***\n",
      "   *\n"
     ]
    }
   ],
   "source": [
    "rows = int(input(\"Enter the number of row you want to print star : \")) # Defines the widest part of the diamond\n",
    "\n",
    "# --- Print the top half (upward pyramid) ---\n",
    "for i in range(1, rows + 1):\n",
    "    # Loop to print the leading spaces\n",
    "    for j in range(rows - i):\n",
    "        print(\" \", end=\"\")\n",
    "    \n",
    "    # Loop to print the stars\n",
    "    for k in range(2 * i - 1):\n",
    "        print(\"*\", end=\"\")\n",
    "    \n",
    "    # Move to the next line after the row is complete\n",
    "    print()\n",
    "\n",
    "# --- Print the bottom half (downward pyramid) ---\n",
    "for i in range(rows - 1, 0, -1):\n",
    "    # Loop to print the leading spaces\n",
    "    for j in range(rows - i):\n",
    "        print(\" \", end=\"\")\n",
    "        \n",
    "    # Loop to print the stars\n",
    "    for k in range(2 * i - 1):\n",
    "        print(\"*\", end=\"\")\n",
    "        \n",
    "    # Move to the next line\n",
    "    print()"
   ]
  },
  {
   "cell_type": "markdown",
   "id": "a40f8646",
   "metadata": {},
   "source": [
    "### Q6. Print a square pattern of n x n stars.\n",
    "\n",
    "```\n",
    "****\n",
    "****\n",
    "****\n",
    "****"
   ]
  },
  {
   "cell_type": "code",
   "execution_count": 34,
   "id": "ec200fc0",
   "metadata": {},
   "outputs": [
    {
     "name": "stdout",
     "output_type": "stream",
     "text": [
      "****\n",
      "****\n",
      "****\n",
      "****\n"
     ]
    }
   ],
   "source": [
    "n = int(input(\"Enter the value of n : \"))\n",
    "for i in range (1, n + 1):\n",
    "    for j in range(n):\n",
    "        print(\"*\", end=\"\")\n",
    "    print()"
   ]
  },
  {
   "cell_type": "markdown",
   "id": "e0137465",
   "metadata": {},
   "source": [
    "\n",
    "### Q7. Print hollow square pattern:\n",
    "\n",
    "```\n",
    "*****\n",
    "*   *\n",
    "*   *\n",
    "*****\n",
    "```"
   ]
  },
  {
   "cell_type": "code",
   "execution_count": 35,
   "id": "b6da4ec3",
   "metadata": {},
   "outputs": [
    {
     "name": "stdout",
     "output_type": "stream",
     "text": [
      "*****\n",
      "*   *\n",
      "*   *\n",
      "*   *\n",
      "*****\n"
     ]
    }
   ],
   "source": [
    "n = int(input(\"Enter the number of row : \"))\n",
    "\n",
    "for i in range(n):          # i = 0 → 4 (rows)\n",
    "    for j in range(n):      # j = 0 → 4 (columns)\n",
    "        if i == 0 or i == n-1 or j == 0 or j == n-1:\n",
    "            print(\"*\", end=\"\")\n",
    "        else:\n",
    "            print(\" \", end=\"\")\n",
    "    print()\n"
   ]
  },
  {
   "cell_type": "markdown",
   "id": "40cf403b",
   "metadata": {},
   "source": [
    "🔎 Dry Run (Row by Row) for question number 7\n",
    "\n",
    "Row 0 → i = 0\n",
    "\n",
    "Condition i == 0 → true for all j.\n",
    "\n",
    "Prints *****.\n",
    "\n",
    "Row 1 → i = 1\n",
    "\n",
    "j = 0 → border column → *.\n",
    "\n",
    "j = 1, 2, 3 → not border → \" \".\n",
    "\n",
    "j = 4 → border column → *.\n",
    "\n",
    "Prints * *.\n",
    "\n",
    "Row 2 → i = 2\n",
    "\n",
    "Same logic as row 1.\n",
    "\n",
    "Prints * *.\n",
    "\n",
    "Row 3 → i = 3\n",
    "\n",
    "Same logic again.\n",
    "\n",
    "Prints * *.\n",
    "\n",
    "Row 4 → i = 4\n",
    "\n",
    "Condition i == n-1 → true for all j.\n",
    "\n",
    "Prints *****"
   ]
  }
 ],
 "metadata": {
  "kernelspec": {
   "display_name": "Python 3",
   "language": "python",
   "name": "python3"
  },
  "language_info": {
   "codemirror_mode": {
    "name": "ipython",
    "version": 3
   },
   "file_extension": ".py",
   "mimetype": "text/x-python",
   "name": "python",
   "nbconvert_exporter": "python",
   "pygments_lexer": "ipython3",
   "version": "3.13.1"
  }
 },
 "nbformat": 4,
 "nbformat_minor": 5
}
