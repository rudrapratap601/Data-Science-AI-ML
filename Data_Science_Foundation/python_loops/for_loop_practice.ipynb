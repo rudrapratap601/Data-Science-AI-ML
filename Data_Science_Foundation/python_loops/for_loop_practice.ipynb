{
 "cells": [
  {
   "cell_type": "markdown",
   "id": "cd93210a",
   "metadata": {},
   "source": [
    "### Q1. Print all even numbers between 1 and 50."
   ]
  },
  {
   "cell_type": "code",
   "execution_count": 5,
   "id": "572d505f",
   "metadata": {},
   "outputs": [
    {
     "name": "stdout",
     "output_type": "stream",
     "text": [
      "2 4 6 8 10 12 14 16 18 20 22 24 26 28 30 32 34 36 38 40 42 44 46 48 50 "
     ]
    }
   ],
   "source": [
    "for i in range (1, 51):\n",
    "    if i % 2 == 0:\n",
    "        print(i, end=\" \")"
   ]
  },
  {
   "cell_type": "markdown",
   "id": "357cde59",
   "metadata": {},
   "source": [
    "Alternative way :"
   ]
  },
  {
   "cell_type": "code",
   "execution_count": 7,
   "id": "ebd1debb",
   "metadata": {},
   "outputs": [
    {
     "name": "stdout",
     "output_type": "stream",
     "text": [
      "2 4 6 8 10 12 14 16 18 20 22 24 26 28 30 32 34 36 38 40 42 44 46 48 50 "
     ]
    }
   ],
   "source": [
    "for i in range(0, 51, 2):\n",
    "    if i == 0:\n",
    "        continue\n",
    "    print(i,end=\" \")"
   ]
  },
  {
   "cell_type": "markdown",
   "id": "ed57d159",
   "metadata": {},
   "source": [
    "### Q2. Print the sum of numbers from 1 to N."
   ]
  },
  {
   "cell_type": "code",
   "execution_count": 9,
   "id": "ea912f08",
   "metadata": {},
   "outputs": [
    {
     "name": "stdout",
     "output_type": "stream",
     "text": [
      "The su of 1st 10 natural number is : 55\n"
     ]
    }
   ],
   "source": [
    "sum = 0\n",
    "\n",
    "num = int(input(\"Enter any natural number : \"))\n",
    "\n",
    "for i in range(1, num + 1):\n",
    "    sum += i\n",
    "\n",
    "print(f\"The su of 1st {num} natural number is : {sum}\")"
   ]
  },
  {
   "cell_type": "markdown",
   "id": "8b15ef49",
   "metadata": {},
   "source": [
    "### Q3. Print the factorial of a given number."
   ]
  },
  {
   "cell_type": "code",
   "execution_count": 10,
   "id": "2afa5e11",
   "metadata": {},
   "outputs": [
    {
     "name": "stdout",
     "output_type": "stream",
     "text": [
      "The factorial of 5 is 120\n"
     ]
    }
   ],
   "source": [
    "num = int(input(\"Enter any number : \"))\n",
    "\n",
    "fact = 1\n",
    "\n",
    "for i in range(1, num + 1):\n",
    "    fact *= i\n",
    "\n",
    "print(f\"The factorial of {num} is {fact}\")"
   ]
  },
  {
   "cell_type": "markdown",
   "id": "98eda419",
   "metadata": {},
   "source": [
    "### Q4. Reverse a given number using a loop"
   ]
  },
  {
   "cell_type": "code",
   "execution_count": 12,
   "id": "279578ff",
   "metadata": {},
   "outputs": [
    {
     "name": "stdout",
     "output_type": "stream",
     "text": [
      "The reverse of 456 is 654\n"
     ]
    }
   ],
   "source": [
    "number = int(input(\"Enter any positve number : \"))\n",
    "\n",
    "str_number = str(number)\n",
    "reverse_str =\"\"\n",
    "\n",
    "for c in str_number:\n",
    "    reverse_str = c + reverse_str\n",
    "\n",
    "reverse = int(reverse_str)\n",
    "\n",
    "print(f\"The reverse of {number} is {reverse}\")"
   ]
  },
  {
   "cell_type": "markdown",
   "id": "4b8045c7",
   "metadata": {},
   "source": [
    "### Q5. Reverse a given string using loop"
   ]
  },
  {
   "cell_type": "code",
   "execution_count": 18,
   "id": "ae6e6ab7",
   "metadata": {},
   "outputs": [
    {
     "name": "stdout",
     "output_type": "stream",
     "text": [
      "The reverse of this word Rudra is arduR\n"
     ]
    }
   ],
   "source": [
    "word = input(\"Enter any word : \")\n",
    "reverse_word = \"\"\n",
    "\n",
    "for char in range(len(word) - 1, -1, -1):\n",
    "    reverse_word += word[char]\n",
    "print(f\"The reverse of this word {word} is {reverse_word}\")"
   ]
  },
  {
   "cell_type": "markdown",
   "id": "fd9e3f33",
   "metadata": {},
   "source": [
    "Alternative Way :\n"
   ]
  },
  {
   "cell_type": "code",
   "execution_count": 19,
   "id": "45769a4b",
   "metadata": {},
   "outputs": [
    {
     "name": "stdout",
     "output_type": "stream",
     "text": [
      "The reverse of this word Rudrapratap Sarma is amraS patarparduR\n"
     ]
    }
   ],
   "source": [
    "word = input(\"Enter any word : \")\n",
    "reverse_word = \"\"\n",
    "\n",
    "for char in word:\n",
    "    reverse_word = char + reverse_word\n",
    "print(f\"The reverse of this word {word} is {reverse_word}\")"
   ]
  },
  {
   "cell_type": "markdown",
   "id": "01688706",
   "metadata": {},
   "source": [
    "### Q6. Count the number of digits in an integer"
   ]
  },
  {
   "cell_type": "code",
   "execution_count": 23,
   "id": "89ad26d4",
   "metadata": {},
   "outputs": [
    {
     "name": "stdout",
     "output_type": "stream",
     "text": [
      "The digit count of this 878 number is 3\n"
     ]
    }
   ],
   "source": [
    "number = int(input(\"Enter ant number : \"))\n",
    "\n",
    "a_number = str(number)\n",
    "count = 0\n",
    "\n",
    "for str_digit in a_number :\n",
    "    count += 1\n",
    "\n",
    "print(f\"The digit count of this {number} number is {count}\")"
   ]
  },
  {
   "cell_type": "markdown",
   "id": "3d9a96cf",
   "metadata": {},
   "source": [
    "### Q7. Print the Fibonacci sequence up to N terms."
   ]
  },
  {
   "cell_type": "code",
   "execution_count": null,
   "id": "854b29a0",
   "metadata": {},
   "outputs": [
    {
     "name": "stdout",
     "output_type": "stream",
     "text": [
      "0 1 1 2 3 5 8 13 21 34 "
     ]
    }
   ],
   "source": [
    "n = int(input(\"Enter till how many terms you want to print the fibonacci sequence : \"))\n",
    "\n",
    "a, b = 0, 1\n",
    "\n",
    "if n <= 0:\n",
    "    print(\"Please enter a positive number : \")\n",
    "elif n == 1:\n",
    "    print(a)\n",
    "else :\n",
    "\n",
    "    print(a, end=\" \")\n",
    "    print(b, end=\" \")\n",
    "\n",
    "    # The loop runs (n - 2) times because we already printed the first two.\n",
    "    for i in range(n - 2):\n",
    "        # Calculate the next number in the sequence\n",
    "        next_number = a + b\n",
    "        print(next_number, end=\" \")\n",
    "        \n",
    "        # Update a and b for the next iteration\n",
    "        a = b\n",
    "        b = next_number\n"
   ]
  },
  {
   "cell_type": "markdown",
   "id": "f9a5c089",
   "metadata": {},
   "source": [
    "Alternative way with better print statement :"
   ]
  },
  {
   "cell_type": "code",
   "execution_count": 27,
   "id": "bc1f9d17",
   "metadata": {},
   "outputs": [
    {
     "name": "stdout",
     "output_type": "stream",
     "text": [
      "The first 5 terms are 0 1 1 2 3\n"
     ]
    }
   ],
   "source": [
    "n = int(input(\"Enter the number of Fibonacci terms to generate: \"))\n",
    "\n",
    "if n <= 0:\n",
    "    print(\"Please enter a positive number.\")\n",
    "else:\n",
    "    fib_sequence = [] \n",
    "    a, b = 0, 1\n",
    "    \n",
    "    # Loop n times to generate and store each number\n",
    "    for _ in range(n):\n",
    "        fib_sequence.append(a)\n",
    "        \n",
    "        a, b = b, a + b\n",
    "        \n",
    "    # Convert the list of integers into a single string\n",
    "    sequence_string = \" \".join(str(num) for num in fib_sequence)\n",
    "    \n",
    "    # Print the final, formatted sentence\n",
    "    print(f\"The first {n} terms are {sequence_string}\")"
   ]
  },
  {
   "cell_type": "markdown",
   "id": "e9b679f8",
   "metadata": {},
   "source": [
    "### Q8. print the sum of digits of a given number :"
   ]
  },
  {
   "cell_type": "code",
   "execution_count": 1,
   "id": "a30127fd",
   "metadata": {},
   "outputs": [
    {
     "name": "stdout",
     "output_type": "stream",
     "text": [
      "The sum of this 455 is 14\n"
     ]
    }
   ],
   "source": [
    "num = int(input(\"Enter any positie number : \"))\n",
    "sum = 0\n",
    "s_num = str(num)\n",
    "\n",
    "for s_digit in s_num :\n",
    "    digit = int(s_digit)\n",
    "    sum += digit \n",
    "print(f\"The sum of this {num} is {sum}\")"
   ]
  },
  {
   "cell_type": "markdown",
   "id": "ada08b70",
   "metadata": {},
   "source": [
    "### Q9. Print all the prime number 1 to 100"
   ]
  },
  {
   "cell_type": "code",
   "execution_count": null,
   "id": "3ebb454b",
   "metadata": {},
   "outputs": [
    {
     "name": "stdout",
     "output_type": "stream",
     "text": [
      "2 3 5 7 11 13 17 19 23 29 31 37 41 43 47 53 59 61 67 71 73 79 83 89 97 "
     ]
    }
   ],
   "source": [
    "\n",
    "for num in range(2, 101):\n",
    "    is_prime = True\n",
    "\n",
    "    for i in range(2, num): # Check for factors from 2 up to the number itself\n",
    "        # If a factor is found, it's not a prime number\n",
    "        if(num % i) == 0 :\n",
    "            is_prime = False\n",
    "            break # Exit the inner loop as it's not prime\n",
    "    if is_prime :\n",
    "        print(num, end=\" \")"
   ]
  },
  {
   "cell_type": "markdown",
   "id": "41573bf0",
   "metadata": {},
   "source": [
    "### Q10. Check the givem number is prime or not "
   ]
  },
  {
   "cell_type": "code",
   "execution_count": 6,
   "id": "fdf83d1a",
   "metadata": {},
   "outputs": [
    {
     "name": "stdout",
     "output_type": "stream",
     "text": [
      "The number 55 is not a prime number.\n"
     ]
    }
   ],
   "source": [
    "num = int(input(\"Enter a number: \"))\n",
    "is_prime = True\n",
    "\n",
    "if num <= 1:\n",
    "    is_prime = False\n",
    "else:\n",
    "    for i in range(2, int(num**0.5) + 1):  # check up to sqrt(num)\n",
    "        if num % i == 0:\n",
    "            is_prime = False\n",
    "            break   # stop checking once a divisor is found\n",
    "\n",
    "if is_prime:\n",
    "    print(f\"The number {num} is a prime number.\")\n",
    "else:\n",
    "    print(f\"The number {num} is not a prime number.\")\n"
   ]
  },
  {
   "cell_type": "markdown",
   "id": "61295693",
   "metadata": {},
   "source": [
    "### Q11. Check whether a given string is a palindrome."
   ]
  },
  {
   "cell_type": "code",
   "execution_count": 20,
   "id": "bc5c3b38",
   "metadata": {},
   "outputs": [
    {
     "name": "stdout",
     "output_type": "stream",
     "text": [
      "The word Civic is palindrom\n"
     ]
    }
   ],
   "source": [
    "original_word = input(\"Enter any word : \")\n",
    "word_to_check = original_word.lower()\n",
    "\n",
    "is_palindrom = True\n",
    "left_index = 0\n",
    "right_index = len(word_to_check) - 1\n",
    "\n",
    "while left_index < right_index:\n",
    "    if(word_to_check[left_index] != word_to_check[right_index]):\n",
    "        is_palindrom = False\n",
    "        break\n",
    "    left_index += 1\n",
    "    right_index -= 1\n",
    "\n",
    "if is_palindrom:\n",
    "    print(f\"The word {original_word} is palindrom\")\n",
    "else:\n",
    "    print(f\"The word {original_word} is not palindrom\")\n",
    "\n"
   ]
  },
  {
   "cell_type": "markdown",
   "id": "7cb405c2",
   "metadata": {},
   "source": [
    "### Q12. Print all Armstrong numbers between 1 and 1000."
   ]
  },
  {
   "cell_type": "code",
   "execution_count": 23,
   "id": "b6f27ec2",
   "metadata": {},
   "outputs": [
    {
     "name": "stdout",
     "output_type": "stream",
     "text": [
      "1 2 3 4 5 6 7 8 9 153 370 371 407 "
     ]
    }
   ],
   "source": [
    "\n",
    "for num in range(1, 1001):\n",
    "    \n",
    "    num_str = str(num)\n",
    "    order = len(num_str)\n",
    "    \n",
    "\n",
    "    sum_of_powers = 0\n",
    "    \n",
    "    # Calculate the sum of each digit raised to the power of the order\n",
    "    for digit_char in num_str:\n",
    "        digit_int = int(digit_char)\n",
    "        sum_of_powers += digit_int ** order\n",
    "        \n",
    "    if num == sum_of_powers:\n",
    "        print(num, end=\" \")"
   ]
  }
 ],
 "metadata": {
  "kernelspec": {
   "display_name": "Python 3",
   "language": "python",
   "name": "python3"
  },
  "language_info": {
   "codemirror_mode": {
    "name": "ipython",
    "version": 3
   },
   "file_extension": ".py",
   "mimetype": "text/x-python",
   "name": "python",
   "nbconvert_exporter": "python",
   "pygments_lexer": "ipython3",
   "version": "3.13.1"
  }
 },
 "nbformat": 4,
 "nbformat_minor": 5
}
