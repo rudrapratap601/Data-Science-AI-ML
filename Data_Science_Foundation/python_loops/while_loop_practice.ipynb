{
 "cells": [
  {
   "cell_type": "markdown",
   "id": "94675833",
   "metadata": {},
   "source": [
    "### Q1. Print the number 100 to 1"
   ]
  },
  {
   "cell_type": "code",
   "execution_count": 1,
   "id": "2a3ae247",
   "metadata": {},
   "outputs": [
    {
     "name": "stdout",
     "output_type": "stream",
     "text": [
      "100 99 98 97 96 95 94 93 92 91 90 89 88 87 86 85 84 83 82 81 80 79 78 77 76 75 74 73 72 71 70 69 68 67 66 65 64 63 62 61 60 59 58 57 56 55 54 53 52 51 50 49 48 47 46 45 44 43 42 41 40 39 38 37 36 35 34 33 32 31 30 29 28 27 26 25 24 23 22 21 20 19 18 17 16 15 14 13 12 11 10 9 8 7 6 5 4 3 2 1 "
     ]
    }
   ],
   "source": [
    "count = 100\n",
    "while count >= 1:\n",
    "    print(count, end=\" \")\n",
    "    count -= 1"
   ]
  },
  {
   "cell_type": "markdown",
   "id": "8c9b491d",
   "metadata": {},
   "source": [
    "### Q2. Print the multiplication table of a number n"
   ]
  },
  {
   "cell_type": "code",
   "execution_count": 3,
   "id": "4dde03a3",
   "metadata": {},
   "outputs": [
    {
     "name": "stdout",
     "output_type": "stream",
     "text": [
      "5 X 1 = 5\n",
      "5 X 2 = 10\n",
      "5 X 3 = 15\n",
      "5 X 4 = 20\n",
      "5 X 5 = 25\n",
      "5 X 6 = 30\n",
      "5 X 7 = 35\n",
      "5 X 8 = 40\n",
      "5 X 9 = 45\n",
      "5 X 10 = 50\n"
     ]
    }
   ],
   "source": [
    "num = int(input(\"Enter any number : \"))\n",
    "\n",
    "i = 1\n",
    "while i <= 10 :\n",
    "    print(f\"{num} X {i} = {num * i}\")\n",
    "    i += 1"
   ]
  },
  {
   "cell_type": "markdown",
   "id": "e33ca945",
   "metadata": {},
   "source": [
    "### Q3. Print elements of a list given by user using while loop"
   ]
  },
  {
   "cell_type": "code",
   "execution_count": 12,
   "id": "b73d350a",
   "metadata": {},
   "outputs": [
    {
     "name": "stdout",
     "output_type": "stream",
     "text": [
      "Your number list is : [88, 65, 121, -99, -66]\n"
     ]
    }
   ],
   "source": [
    "number_list = []\n",
    "\n",
    "element = int(input(\"Enter how many elements you want in your list : \"))\n",
    "\n",
    "i = 1\n",
    "while i <= element :\n",
    "    elem = int(input(f\"Enter element {i} : \"))\n",
    "    number_list.append(elem)\n",
    "    i += 1\n",
    "\n",
    "print(f\"Your number list is : {number_list}\")\n"
   ]
  },
  {
   "cell_type": "markdown",
   "id": "d2dcbdc9",
   "metadata": {},
   "source": [
    "### Q.4 Search for a number x in a tuple given by user using while loops "
   ]
  },
  {
   "cell_type": "code",
   "execution_count": 2,
   "id": "3e14d266",
   "metadata": {},
   "outputs": [
    {
     "name": "stdout",
     "output_type": "stream",
     "text": [
      "Your tuple is: (88, 25, 65, 98, 78)\n",
      "\n",
      "Found the element 65 at index : 2\n"
     ]
    }
   ],
   "source": [
    "num_tuple = ()\n",
    "\n",
    "element = int(input(\"Enter how many element you want to add in your list : \"))\n",
    "\n",
    "i = 1\n",
    "while i <= element :\n",
    "    elem = int(input(f\"Enter element {i}\"))\n",
    "    # Create a new tuple by adding the old tuple and the new element's tuple because tuple is immutable \n",
    "    num_tuple = num_tuple + (elem,)\n",
    "    i += 1\n",
    "\n",
    "print(f\"Your tuple is: {num_tuple}\")\n",
    "\n",
    "print()\n",
    "\n",
    "search_element = int(input(\"Enter the element you are search for : \"))\n",
    "\n",
    "j = 0 # Start index at 0\n",
    "\n",
    "while j < len(num_tuple) :\n",
    "    if num_tuple[j] == search_element :\n",
    "        print(f\"Found the element {search_element} at index : {j}\")\n",
    "        break\n",
    "    j += 1\n",
    "else :\n",
    "    print(f\"The element {search_element} is not found!\")"
   ]
  },
  {
   "cell_type": "markdown",
   "id": "d8eb5d46",
   "metadata": {},
   "source": [
    "### Q5. Write a program to check if the given list is Palindrome or not "
   ]
  },
  {
   "cell_type": "code",
   "execution_count": 16,
   "id": "a7d94637",
   "metadata": {},
   "outputs": [
    {
     "name": "stdout",
     "output_type": "stream",
     "text": [
      "Your number list is : [99, 120, 550, 120, 99]\n",
      "Your given list [99, 120, 550, 120, 99] is palindrome!\n"
     ]
    }
   ],
   "source": [
    "Number_list = []\n",
    "\n",
    "element = int(input(\"Enter how many number you want to add in your list : \"))\n",
    "\n",
    "i = 1\n",
    "while i <= element :\n",
    "    elem = int(input(f\"Enter element {i} : \"))\n",
    "    Number_list.append(elem)\n",
    "    i += 1\n",
    "\n",
    "print(f\"Your number list is : {Number_list}\")\n",
    "\n",
    "# ---  Palindrome checking logic ---\n",
    "\n",
    "is_palindrome = True   # Assume it's a palindrome until we find a mismatch\n",
    "\n",
    "left_index = 0\n",
    "right_index = len(Number_list) - 1\n",
    "\n",
    "# The loop runs as long as the left pointer has not met or passed the right pointer\n",
    "while left_index < right_index :\n",
    "    if Number_list[left_index] != Number_list[right_index] :\n",
    "        is_palindrome = False\n",
    "        break\n",
    "    left_index += 1\n",
    "    right_index -= 1\n",
    "\n",
    "if is_palindrome :\n",
    "    print(f\"Your given list {Number_list} is palindrome!\")\n",
    "else :\n",
    "    print(f\"Your given list {Number_list} is not palindrome!\")\n",
    "    \n",
    "\n"
   ]
  }
 ],
 "metadata": {
  "kernelspec": {
   "display_name": "Python 3",
   "language": "python",
   "name": "python3"
  },
  "language_info": {
   "codemirror_mode": {
    "name": "ipython",
    "version": 3
   },
   "file_extension": ".py",
   "mimetype": "text/x-python",
   "name": "python",
   "nbconvert_exporter": "python",
   "pygments_lexer": "ipython3",
   "version": "3.13.1"
  }
 },
 "nbformat": 4,
 "nbformat_minor": 5
}
