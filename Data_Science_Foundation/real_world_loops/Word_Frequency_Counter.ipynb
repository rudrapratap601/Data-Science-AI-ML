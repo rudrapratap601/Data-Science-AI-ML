{
 "cells": [
  {
   "cell_type": "markdown",
   "id": "e13fca92",
   "metadata": {},
   "source": [
    "# 📌 Word Frequency Counter :~\n"
   ]
  },
  {
   "cell_type": "markdown",
   "id": "ac5a22da",
   "metadata": {},
   "source": [
    "Where it’s used in DS/AI:\n",
    "\n",
    "Natural Language Processing (NLP): This is the base of “Bag of Words” and “TF-IDF” models. Before AI models like transformers, this was the main way text was represented.\n",
    "\n",
    "Sentiment Analysis: You count positive/negative words to judge a review’s sentiment.\n",
    "\n",
    "Spam Detection: Count words like “offer,” “free,” etc.\n",
    "\n",
    "\n",
    " Basically, every NLP pipeline starts here.\n"
   ]
  },
  {
   "cell_type": "markdown",
   "id": "b80884b8",
   "metadata": {},
   "source": [
    "### Code :~"
   ]
  },
  {
   "cell_type": "code",
   "execution_count": null,
   "id": "d1ded9a2",
   "metadata": {},
   "outputs": [
    {
     "name": "stdout",
     "output_type": "stream",
     "text": [
      "\n",
      "Word Frequency:\n",
      "the → 3\n",
      "quick → 1\n",
      "brown → 1\n",
      "fox → 1\n",
      "jumps → 1\n",
      "over → 1\n",
      "lazy → 2\n",
      "dog → 2\n",
      "was → 1\n",
      "not → 1\n"
     ]
    }
   ],
   "source": [
    "\"\"\"\n",
    "Word Frequency Counter using loops only.\n",
    "Application: Natural Language Processing (Bag-of-Words, TF-IDF, Sentiment Analysis).\n",
    "\"\"\"\n",
    "\n",
    "\n",
    "word_dict = {}\n",
    "\n",
    "text = input(\"Enter any text here : \")\n",
    "\n",
    "# Convert the text to lowercase to treat 'The' and 'the' as the same word.\n",
    "text = text.lower()\n",
    "\n",
    "# Remove basic punctuation\n",
    "for char in [\".\", \",\", \"!\", \"?\", \";\", \":\"]:\n",
    "    text = text.replace(char, \"\")\n",
    "\n",
    "# Split the text into a list of individual words.\n",
    "words = text.split()\n",
    "\n",
    "# Counting logic\n",
    "for word in words :\n",
    "    if word in word_dict:\n",
    "        # If the word is already a key in our dictionary, increment its value by 1.\n",
    "        word_dict[word] += 1\n",
    "    else :\n",
    "        # If the word is not yet in the dictionary, add it as a new key with a value of 1.\n",
    "        word_dict[word] = 1\n",
    "\n",
    "print(\"\\nWord Frequency:\")\n",
    "for word, count in word_dict.items():\n",
    "    print(f\"{word} -> {count}\")"
   ]
  },
  {
   "cell_type": "markdown",
   "id": "dc7a96a7",
   "metadata": {},
   "source": [
    "### 📌 Word Frequency Counter — Why It Matters in Data Science & AI\n",
    "\n",
    "This simple loop-based project is more powerful than it looks. Counting word frequencies is the foundation of Natural Language Processing (NLP), which powers everything from chatbots to search engines.\n",
    "\n",
    "🔹Bag-of-Words (BoW)\n",
    "\n",
    "Represents text as a collection of words and their counts.\n",
    "\n",
    "Example: \"I love AI, I love Python\" → {i: 2, love: 2, ai: 1, python: 1}.\n",
    "\n",
    "Used in text classification, spam detection, topic modeling.\n",
    "\n",
    "🔹 TF-IDF (Term Frequency–Inverse Document Frequency)\n",
    "\n",
    "Builds on word counts but adjusts them to highlight important words.\n",
    "\n",
    "Example: In 100 documents, “the” appears everywhere → not important. A rare word like “transformer” is more meaningful.\n",
    "\n",
    "Used in search engines, information retrieval, document ranking.\n",
    "\n",
    "🔹 Sentiment Analysis\n",
    "\n",
    "By analyzing word frequency patterns (like \"happy\", \"angry\", \"sad\"), we can estimate the sentiment of text.\n",
    "\n",
    "Used in customer reviews, social media monitoring, feedback analysis.\n",
    "\n",
    "### 📌 Why This Project Is Great for Data Science & AI\n",
    "\n",
    "✔ Teaches loop logic + dictionaries (core Python skills).\n",
    "\n",
    "✔ Mimics real-world NLP preprocessing.\n",
    "\n",
    "✔ Builds the foundation for advanced tools (like NLTK, spaCy, sklearn)"
   ]
  }
 ],
 "metadata": {
  "kernelspec": {
   "display_name": "Python 3",
   "language": "python",
   "name": "python3"
  },
  "language_info": {
   "codemirror_mode": {
    "name": "ipython",
    "version": 3
   },
   "file_extension": ".py",
   "mimetype": "text/x-python",
   "name": "python",
   "nbconvert_exporter": "python",
   "pygments_lexer": "ipython3",
   "version": "3.13.1"
  }
 },
 "nbformat": 4,
 "nbformat_minor": 5
}
