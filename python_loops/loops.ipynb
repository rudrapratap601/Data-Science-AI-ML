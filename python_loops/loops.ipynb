{
 "cells": [
  {
   "cell_type": "markdown",
   "id": "20fa403b",
   "metadata": {},
   "source": [
    "# Loops in python :"
   ]
  },
  {
   "cell_type": "markdown",
   "id": "5aaeb768",
   "metadata": {},
   "source": [
    "Loops help us repeat a block of code multiple times without writing it again and again.\n",
    "### In python there are 2 types of loops \n",
    "    1. while loop\n",
    "    2. for loop"
   ]
  },
  {
   "cell_type": "markdown",
   "id": "06d8b11d",
   "metadata": {},
   "source": [
    "## 1. While loop :"
   ]
  },
  {
   "cell_type": "markdown",
   "id": "f11220f4",
   "metadata": {},
   "source": [
    "We Use while loop when we don’t know the exact number of repetitions but want to repeat until a condition is true.\n",
    "\n",
    "If the condition never becomes False, you’ll create an infinite loop.\n",
    "\n",
    "Example:"
   ]
  },
  {
   "cell_type": "code",
   "execution_count": 2,
   "id": "99e2d2b5",
   "metadata": {},
   "outputs": [
    {
     "name": "stdout",
     "output_type": "stream",
     "text": [
      "1 2 3 4 5 6 7 8 9 10 11 12 13 14 15 16 17 18 19 20 21 22 23 24 25 26 27 28 29 30 31 32 33 34 35 36 37 38 39 40 41 42 43 44 45 46 47 48 49 50 51 52 53 54 55 56 57 58 59 60 61 62 63 64 65 66 67 68 69 70 71 72 73 74 75 76 77 78 79 80 81 82 83 84 85 86 87 88 89 90 91 92 93 94 95 96 97 98 99 100 101 "
     ]
    }
   ],
   "source": [
    "# Print Number from 1 to 100\n",
    "\n",
    "count = 1\n",
    "while count <= 101 :\n",
    "    print(count, end =\" \")\n",
    "    count += 1"
   ]
  }
 ],
 "metadata": {
  "kernelspec": {
   "display_name": "Python 3",
   "language": "python",
   "name": "python3"
  },
  "language_info": {
   "codemirror_mode": {
    "name": "ipython",
    "version": 3
   },
   "file_extension": ".py",
   "mimetype": "text/x-python",
   "name": "python",
   "nbconvert_exporter": "python",
   "pygments_lexer": "ipython3",
   "version": "3.13.1"
  }
 },
 "nbformat": 4,
 "nbformat_minor": 5
}
